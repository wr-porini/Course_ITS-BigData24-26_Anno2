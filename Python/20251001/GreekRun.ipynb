{
 "cells": [
  {
   "cell_type": "markdown",
   "metadata": {},
   "source": [
    "## Greek run"
   ]
  },
  {
   "cell_type": "markdown",
   "metadata": {},
   "source": [
    "In this exercise you will use numpy and matplotlib to simulate the greek run. The greek run works as follows:\n",
    "- There are 5 players(1,2,3,4,5) at positions 0,20,40,60,80\n",
    "- Players 1,2,3,4 are moving towards the right and player 5 is moving towards the left\n",
    "- If 2 players meet they both switch directions they are running\n",
    "- If a player's position is below 0 or above 100, they are safe\n",
    "- The last player to exit looses\n",
    "\n",
    "Which player looses?"
   ]
  },
  {
   "cell_type": "code",
   "execution_count": null,
   "metadata": {},
   "outputs": [],
   "source": [
    "import matplotlib.pyplot as plt\n",
    "%matplotlib inline\n",
    "import time\n",
    "import numpy as np\n",
    "from IPython import display"
   ]
  },
  {
   "cell_type": "code",
   "execution_count": null,
   "metadata": {},
   "outputs": [],
   "source": [
    "# Step 1\n",
    "# - Create the line with the correct positions as an np.array\n",
    "# - Assign a True if the player is still playing to each player as an np.array\n",
    "# - Assign a direction to each player as an np.array\n",
    "# - choose 5 colors for the players\n",
    "# - choose 5 markers for the players\n",
    "# - Using for x in zip(posizioni,direction,colors,markers): , plot: the initial positions, the the x limit from 0-100, set the y limit from -0.2 - 0.2\n",
    "\n",
    "posizioni= #ENTER CODE HERE\n",
    "play= #ENTER CODE HERE\n",
    "direction= #ENTER CODE HERE\n",
    "colors= #ENTER CODE HERE\n",
    "markers= #ENTER CODE HERE\n",
    "\n",
    "fig=plt.figure();\n",
    "ax = fig.add_axes([0, 0, 1, 1]);\n",
    "fig.suptitle('Greek Run',fontsize=14)\n",
    "\n",
    "for x in zip(posizioni,direction,colors,markers):\n",
    "    #ENTER CODE HERE\n",
    "display.clear_output(wait=True)\n",
    "display.display(plt.gcf())\n",
    "time.sleep(1.0)\n",
    "\n",
    "step = 0\n",
    "\n",
    "while len(play[play==True]) > 1:\n",
    "    step += 1\n",
    "# Step 2\n",
    "# - add a step in the correct direction to each player\n",
    "# - Check whether any players are out of the game\n",
    "# - Check if some players have met, if they did, change their direction\n",
    "    \n",
    "    #ENTER CODE HERE\n",
    "\n",
    "    ax.clear()\n",
    "# Step 3\n",
    "# - Plot the new positions using the code from step 1\n",
    "    for x in zip(posizioni,direction,colors,markers):\n",
    "        #ENTER CODE HERE\n",
    "       \n",
    "    display.clear_output(wait=True)\n",
    "    display.display(plt.gcf())\n",
    "    time.sleep(0.2)\n",
    "\n",
    "display.clear_output()\n",
    "display.display(plt.gcf())\n",
    "display.clear_output()\n",
    "\n",
    "# Step 4\n",
    "# - Count the remaining steps for the last player\n",
    "# - calculate the total number of steps\n",
    "# - print the total amount of steps.\n",
    "\n",
    "#ENTER CODE HERE\n"
   ]
  }
 ],
 "metadata": {
  "kernelspec": {
   "display_name": "Python 3.10.8 64-bit (microsoft store)",
   "language": "python",
   "name": "python3"
  },
  "language_info": {
   "codemirror_mode": {
    "name": "ipython",
    "version": 3
   },
   "file_extension": ".py",
   "mimetype": "text/x-python",
   "name": "python",
   "nbconvert_exporter": "python",
   "pygments_lexer": "ipython3",
   "version": "3.10.9 (tags/v3.10.9:1dd9be6, Dec  6 2022, 20:01:21) [MSC v.1934 64 bit (AMD64)]"
  },
  "orig_nbformat": 4,
  "vscode": {
   "interpreter": {
    "hash": "116c8fcb328b67faa4f82de808f934c89ebe6dff4d3edd25eb273fd0b540170d"
   }
  }
 },
 "nbformat": 4,
 "nbformat_minor": 2
}
